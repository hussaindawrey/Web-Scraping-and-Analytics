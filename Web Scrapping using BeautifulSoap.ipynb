{
 "cells": [
  {
   "cell_type": "markdown",
   "metadata": {},
   "source": [
    "I’ve found a website that has over 1700 reviews of chocolate bars from all around the world.\n",
    "The data is displayed in a table, instead of in a csv or json. Thankfully, we have the power of BeautifulSoup that will help us transform this webpage into a DataFrame that we can manipulate and analyze.\n",
    "\n",
    "The rating scale is from 1-5. A 1 is “unpleasant” chocolate, while a 5 is a bar that transcends “beyond the ordinary limits”.\n",
    "\n",
    "Some questions we thought about when we found this dataset were: Where are the best cocoa beans grown? Which countries produce the highest-rated bars? What’s the relationship between cocoa solids percentage and rating?"
   ]
  },
  {
   "cell_type": "code",
   "execution_count": 1,
   "metadata": {},
   "outputs": [],
   "source": [
    "from bs4 import BeautifulSoup\n",
    "import requests\n",
    "import pandas as pd\n",
    "import matplotlib.pyplot as plt\n",
    "import numpy as np"
   ]
  },
  {
   "cell_type": "markdown",
   "metadata": {},
   "source": [
    "\n",
    "Let’s make a request to this site to get the raw HTML, which we can later turn into a BeautifulSoup object."
   ]
  },
  {
   "cell_type": "code",
   "execution_count": 9,
   "metadata": {},
   "outputs": [],
   "source": [
    "url = \"https://s3.amazonaws.com/codecademy-content/courses/beautifulsoup/cacao/index.html\"\n",
    "webpage = requests.get(url)\n",
    "html = webpage.content\n",
    "soup = BeautifulSoup(html,\"html.parser\")"
   ]
  },
  {
   "cell_type": "code",
   "execution_count": 11,
   "metadata": {},
   "outputs": [
    {
     "name": "stdout",
     "output_type": "stream",
     "text": [
      "[<meta charset=\"utf-8\"/>, <style>\n",
      "         #cacaoTable {\n",
      "         border-collapse: collapse;\n",
      "         border: 2px black solid;\n",
      "         font: 12px sans-serif;\n",
      "         }\n",
      "         #cacaoTable td {\n",
      "         border: 1px black solid;\n",
      "         padding: 5px;\n",
      "         }\n",
      "         #infoContainer {\n",
      "         margin-bottom: 10px;\n",
      "         display: inline-block;\n",
      "         margin-right: 10px;\n",
      "         }\n",
      "         #chocolate {\n",
      "         width: 300px;\n",
      "         }\n",
      "         #picContainer {\n",
      "         display: inline;\n",
      "         }\n",
      "      </style>]\n"
     ]
    }
   ],
   "source": [
    "print(soup.head())"
   ]
  },
  {
   "cell_type": "markdown",
   "metadata": {},
   "source": [
    "\n",
    "How many terrible chocolate bars are out there? And how many earned a perfect 5? Let’s make a histogram of this data.\n",
    "\n",
    "The first thing to do is to put all of the ratings into a list.\n",
    "\n",
    "I will Loop through the ratings tags and get the text contained in each one. Add it to the ratings list.\n",
    "\n",
    "As we do this, convert the rating to a float, so that the ratings list will be numerical. This should help with calculations later"
   ]
  },
  {
   "cell_type": "code",
   "execution_count": 13,
   "metadata": {},
   "outputs": [],
   "source": [
    "all_ratings_tag = soup.find_all(attrs={\"class\": \"Rating\"})"
   ]
  },
  {
   "cell_type": "code",
   "execution_count": 15,
   "metadata": {},
   "outputs": [],
   "source": [
    "ratings = []"
   ]
  },
  {
   "cell_type": "code",
   "execution_count": 16,
   "metadata": {},
   "outputs": [],
   "source": [
    "for tag in all_ratings_tag[1:]:\n",
    "  ratings.append(float(tag.get_text()))"
   ]
  },
  {
   "cell_type": "markdown",
   "metadata": {},
   "source": [
    "\n",
    "Using Matplotlib, I will create a histogram of the ratings values:"
   ]
  },
  {
   "cell_type": "code",
   "execution_count": 20,
   "metadata": {},
   "outputs": [
    {
     "data": {
      "image/png": "[encoded data removed]",
      "text/plain": [
       "<Figure size 432x288 with 1 Axes>"
      ]
     },
     "metadata": {
      "needs_background": "light"
     },
     "output_type": "display_data"
    }
   ],
   "source": [
    "plt.hist(ratings)\n",
    "plt.show()\n"
   ]
  },
  {
   "cell_type": "markdown",
   "metadata": {},
   "source": [
    "We want to now find the 10 most highly rated chocolatiers. One way to do this is to make a DataFrame that has the chocolate companies in one column, and the ratings in another. Then, we can do a groupby to find the ones with the highest average rating."
   ]
  },
  {
   "cell_type": "code",
   "execution_count": 24,
   "metadata": {},
   "outputs": [],
   "source": [
    "Names_Of_Company = soup.select(\".Company\")\n",
    "Company_Names = []"
   ]
  },
  {
   "cell_type": "code",
   "execution_count": 50,
   "metadata": {},
   "outputs": [],
   "source": [
    "for name in Names_Of_Company[1:]:\n",
    "  Company_Names.append(name.get_text())"
   ]
  },
  {
   "cell_type": "markdown",
   "metadata": {},
   "source": [
    "I will now Create a DataFrame with a column “Company” corresponding to our companies list, and a column “Ratings” corresponding to our ratings list."
   ]
  },
  {
   "cell_type": "code",
   "execution_count": 30,
   "metadata": {},
   "outputs": [],
   "source": [
    "d = {\"Company\":Company_Names , \"Rating\": ratings}\n",
    "df = pd.DataFrame.from_dict(d)"
   ]
  },
  {
   "cell_type": "code",
   "execution_count": 31,
   "metadata": {},
   "outputs": [
    {
     "name": "stdout",
     "output_type": "stream",
     "text": [
      "       Company  Rating\n",
      "0     A. Morin    3.75\n",
      "1     A. Morin    2.75\n",
      "2     A. Morin    3.00\n",
      "3     A. Morin    3.50\n",
      "4     A. Morin    3.50\n",
      "...        ...     ...\n",
      "1790    Zotter    3.75\n",
      "1791    Zotter    3.00\n",
      "1792    Zotter    3.50\n",
      "1793    Zotter    3.25\n",
      "1794    Zotter    3.00\n",
      "\n",
      "[1795 rows x 2 columns]\n"
     ]
    }
   ],
   "source": [
    "print(df)"
   ]
  },
  {
   "cell_type": "markdown",
   "metadata": {},
   "source": [
    "\n",
    "By Using .groupby to group our DataFrame by Company and take the average of the grouped ratings.\n",
    "\n",
    "Then, we will use the .nlargest command to get the 10 highest rated chocolate companies. and Print them out"
   ]
  },
  {
   "cell_type": "code",
   "execution_count": 33,
   "metadata": {},
   "outputs": [
    {
     "name": "stdout",
     "output_type": "stream",
     "text": [
      "Company\n",
      "A. Morin                  3.380435\n",
      "AMMA                      3.500000\n",
      "Acalli                    3.750000\n",
      "Adi                       3.250000\n",
      "Aequare (Gianduja)        2.875000\n",
      "                            ...   \n",
      "hello cocoa               3.125000\n",
      "hexx                      3.050000\n",
      "iQ Chocolate              2.875000\n",
      "organicfair               2.850000\n",
      "twenty-four blackbirds    3.041667\n",
      "Name: Rating, Length: 416, dtype: float64\n"
     ]
    }
   ],
   "source": [
    "Company_Ratings_Groupby = df.groupby('Company').Rating.mean()\n",
    "print(Company_Ratings_Groupby)\n"
   ]
  },
  {
   "cell_type": "code",
   "execution_count": 34,
   "metadata": {},
   "outputs": [
    {
     "name": "stdout",
     "output_type": "stream",
     "text": [
      "Company\n",
      "Tobago Estate (Pralus)                  4.000000\n",
      "Heirloom Cacao Preservation (Zokoko)    3.875000\n",
      "Ocelot                                  3.875000\n",
      "Amedei                                  3.846154\n",
      "Matale                                  3.812500\n",
      "Patric                                  3.791667\n",
      "Idilio (Felchlin)                       3.775000\n",
      "Acalli                                  3.750000\n",
      "Chocola'te                              3.750000\n",
      "Christopher Morel (Felchlin)            3.750000\n",
      "Name: Rating, dtype: float64\n"
     ]
    }
   ],
   "source": [
    "TOP_TEN = Company_Ratings_Groupby.nlargest(10)\n",
    "print(TOP_TEN)"
   ]
  },
  {
   "cell_type": "markdown",
   "metadata": {},
   "source": [
    "We want to see if the chocolate experts tend to rate chocolate bars with higher levels of cacao to be better than those with lower levels of cacao.\n",
    "\n",
    "It looks like the cocoa percentages are in the table under the Cocoa Percent column.\n",
    "\n",
    "Using the same methods we used in the last couple of tasks, create a list that contains all of the cocoa percentages. Store each percent as an integer, after stripping off the % character."
   ]
  },
  {
   "cell_type": "code",
   "execution_count": 44,
   "metadata": {},
   "outputs": [],
   "source": [
    "cocoa_percents = []\n",
    "cocoa_percents_tags = soup.select('.CocoaPercent')\n",
    "for td in cocoa_percents_tags[1:]:\n",
    "  percent = float(td.get_text().strip('%'))\n",
    "  cocoa_percents.append(percent)\n",
    "\n",
    "\n"
   ]
  },
  {
   "cell_type": "markdown",
   "metadata": {},
   "source": [
    "We will now make a new DataFrame to add the CocoaPercentage Column"
   ]
  },
  {
   "cell_type": "code",
   "execution_count": 46,
   "metadata": {},
   "outputs": [],
   "source": [
    "\n",
    "d2 = {\"Company\":Company_Names , \"Rating\": ratings,\"CocoaPercentage\":cocoa_percents}\n",
    "df2 = pd.DataFrame.from_dict(d2)"
   ]
  },
  {
   "cell_type": "code",
   "execution_count": 47,
   "metadata": {},
   "outputs": [
    {
     "name": "stdout",
     "output_type": "stream",
     "text": [
      "       Company  Rating  CocoaPercentage\n",
      "0     A. Morin    3.75             63.0\n",
      "1     A. Morin    2.75             70.0\n",
      "2     A. Morin    3.00             70.0\n",
      "3     A. Morin    3.50             70.0\n",
      "4     A. Morin    3.50             70.0\n",
      "...        ...     ...              ...\n",
      "1790    Zotter    3.75             70.0\n",
      "1791    Zotter    3.00             65.0\n",
      "1792    Zotter    3.50             65.0\n",
      "1793    Zotter    3.25             62.0\n",
      "1794    Zotter    3.00             65.0\n",
      "\n",
      "[1795 rows x 3 columns]\n"
     ]
    }
   ],
   "source": [
    "print(df2)"
   ]
  },
  {
   "cell_type": "markdown",
   "metadata": {},
   "source": [
    "\n",
    "I will nowMake a scatterplot of ratings (your_df.Rating) vs percentage of cocoa (your_df.CocoaPercentage).\n",
    "\n",
    "\n",
    "Is there any correlation here? We can use some numpy commands to draw a line of best-fit over the scatterplot."
   ]
  },
  {
   "cell_type": "code",
   "execution_count": 49,
   "metadata": {},
   "outputs": [
    {
     "data": {
      "image/png": "[encoded data removed]",
      "text/plain": [
       "<Figure size 432x288 with 1 Axes>"
      ]
     },
     "metadata": {
      "needs_background": "light"
     },
     "output_type": "display_data"
    }
   ],
   "source": [
    "plt.scatter(df2.CocoaPercentage, df2.Rating)\n",
    "z = np.polyfit(df2.CocoaPercentage, df2.Rating, 1)\n",
    "line_function = np.poly1d(z)\n",
    "plt.plot(df2.CocoaPercentage, line_function(df2.CocoaPercentage), \"r--\")\n",
    "plt.show()"
   ]
  },
  {
   "cell_type": "code",
   "execution_count": null,
   "metadata": {},
   "outputs": [],
   "source": []
  }
 ],
 "metadata": {
  "kernelspec": {
   "display_name": "Python 3.8.3 64-bit",
   "language": "python",
   "name": "python38364bit79a414163a434738badc2eb0cdd5abac"
  },
  "language_info": {
   "codemirror_mode": {
    "name": "ipython",
    "version": 3
   },
   "file_extension": ".py",
   "mimetype": "text/x-python",
   "name": "python",
   "nbconvert_exporter": "python",
   "pygments_lexer": "ipython3",
   "version": "3.8.3"
  }
 },
 "nbformat": 4,
 "nbformat_minor": 4
}
